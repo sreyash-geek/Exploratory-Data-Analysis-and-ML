{
  "nbformat": 4,
  "nbformat_minor": 0,
  "metadata": {
    "colab": {
      "name": "Google_Share_Forecasting.ipynb",
      "provenance": []
    },
    "kernelspec": {
      "name": "python3",
      "display_name": "Python 3"
    }
  },
  "cells": [
    {
      "cell_type": "code",
      "metadata": {
        "id": "hKW80nvbUzaP",
        "colab": {
          "base_uri": "https://localhost:8080/"
        },
        "outputId": "c608ac6b-cdca-4f47-e5ac-ffa771d7ea52"
      },
      "source": [
        "pip install quandl"
      ],
      "execution_count": 30,
      "outputs": [
        {
          "output_type": "stream",
          "text": [
            "Requirement already satisfied: quandl in /usr/local/lib/python3.6/dist-packages (3.6.0)\n",
            "Requirement already satisfied: inflection>=0.3.1 in /usr/local/lib/python3.6/dist-packages (from quandl) (0.5.1)\n",
            "Requirement already satisfied: more-itertools in /usr/local/lib/python3.6/dist-packages (from quandl) (8.7.0)\n",
            "Requirement already satisfied: pandas>=0.14 in /usr/local/lib/python3.6/dist-packages (from quandl) (1.1.5)\n",
            "Requirement already satisfied: python-dateutil in /usr/local/lib/python3.6/dist-packages (from quandl) (2.8.1)\n",
            "Requirement already satisfied: requests>=2.7.0 in /usr/local/lib/python3.6/dist-packages (from quandl) (2.23.0)\n",
            "Requirement already satisfied: numpy>=1.8 in /usr/local/lib/python3.6/dist-packages (from quandl) (1.19.5)\n",
            "Requirement already satisfied: six in /usr/local/lib/python3.6/dist-packages (from quandl) (1.15.0)\n",
            "Requirement already satisfied: pytz>=2017.2 in /usr/local/lib/python3.6/dist-packages (from pandas>=0.14->quandl) (2018.9)\n",
            "Requirement already satisfied: certifi>=2017.4.17 in /usr/local/lib/python3.6/dist-packages (from requests>=2.7.0->quandl) (2020.12.5)\n",
            "Requirement already satisfied: urllib3!=1.25.0,!=1.25.1,<1.26,>=1.21.1 in /usr/local/lib/python3.6/dist-packages (from requests>=2.7.0->quandl) (1.24.3)\n",
            "Requirement already satisfied: idna<3,>=2.5 in /usr/local/lib/python3.6/dist-packages (from requests>=2.7.0->quandl) (2.10)\n",
            "Requirement already satisfied: chardet<4,>=3.0.2 in /usr/local/lib/python3.6/dist-packages (from requests>=2.7.0->quandl) (3.0.4)\n"
          ],
          "name": "stdout"
        }
      ]
    },
    {
      "cell_type": "code",
      "metadata": {
        "id": "_36s_8lkU0yC"
      },
      "source": [
        "import numpy as np\r\n",
        "import pandas as pd\r\n",
        "from sklearn.linear_model import LinearRegression\r\n",
        "import matplotlib.pyplot as plt\r\n",
        "from matplotlib import style\r\n",
        "import datetime\r\n",
        "import pickle\r\n",
        "import quandl"
      ],
      "execution_count": 31,
      "outputs": []
    },
    {
      "cell_type": "code",
      "metadata": {
        "id": "ufYrip-VcBUU"
      },
      "source": [
        "df=quandl.get('WIKI/GOOGL')"
      ],
      "execution_count": 32,
      "outputs": []
    },
    {
      "cell_type": "code",
      "metadata": {
        "colab": {
          "base_uri": "https://localhost:8080/"
        },
        "id": "vhtvEWbaf7JM",
        "outputId": "add3c68c-4b29-46a2-8fdf-168d9567548f"
      },
      "source": [
        "df.shape"
      ],
      "execution_count": 33,
      "outputs": [
        {
          "output_type": "execute_result",
          "data": {
            "text/plain": [
              "(3424, 12)"
            ]
          },
          "metadata": {
            "tags": []
          },
          "execution_count": 33
        }
      ]
    },
    {
      "cell_type": "code",
      "metadata": {
        "colab": {
          "base_uri": "https://localhost:8080/",
          "height": 235
        },
        "id": "HkCEO1EFbWEC",
        "outputId": "775ae671-e860-4515-9e96-88980a7b3c5f"
      },
      "source": [
        "df.head()"
      ],
      "execution_count": 34,
      "outputs": [
        {
          "output_type": "execute_result",
          "data": {
            "text/html": [
              "<div>\n",
              "<style scoped>\n",
              "    .dataframe tbody tr th:only-of-type {\n",
              "        vertical-align: middle;\n",
              "    }\n",
              "\n",
              "    .dataframe tbody tr th {\n",
              "        vertical-align: top;\n",
              "    }\n",
              "\n",
              "    .dataframe thead th {\n",
              "        text-align: right;\n",
              "    }\n",
              "</style>\n",
              "<table border=\"1\" class=\"dataframe\">\n",
              "  <thead>\n",
              "    <tr style=\"text-align: right;\">\n",
              "      <th></th>\n",
              "      <th>Open</th>\n",
              "      <th>High</th>\n",
              "      <th>Low</th>\n",
              "      <th>Close</th>\n",
              "      <th>Volume</th>\n",
              "      <th>Ex-Dividend</th>\n",
              "      <th>Split Ratio</th>\n",
              "      <th>Adj. Open</th>\n",
              "      <th>Adj. High</th>\n",
              "      <th>Adj. Low</th>\n",
              "      <th>Adj. Close</th>\n",
              "      <th>Adj. Volume</th>\n",
              "    </tr>\n",
              "    <tr>\n",
              "      <th>Date</th>\n",
              "      <th></th>\n",
              "      <th></th>\n",
              "      <th></th>\n",
              "      <th></th>\n",
              "      <th></th>\n",
              "      <th></th>\n",
              "      <th></th>\n",
              "      <th></th>\n",
              "      <th></th>\n",
              "      <th></th>\n",
              "      <th></th>\n",
              "      <th></th>\n",
              "    </tr>\n",
              "  </thead>\n",
              "  <tbody>\n",
              "    <tr>\n",
              "      <th>2004-08-19</th>\n",
              "      <td>100.01</td>\n",
              "      <td>104.06</td>\n",
              "      <td>95.96</td>\n",
              "      <td>100.335</td>\n",
              "      <td>44659000.0</td>\n",
              "      <td>0.0</td>\n",
              "      <td>1.0</td>\n",
              "      <td>50.159839</td>\n",
              "      <td>52.191109</td>\n",
              "      <td>48.128568</td>\n",
              "      <td>50.322842</td>\n",
              "      <td>44659000.0</td>\n",
              "    </tr>\n",
              "    <tr>\n",
              "      <th>2004-08-20</th>\n",
              "      <td>101.01</td>\n",
              "      <td>109.08</td>\n",
              "      <td>100.50</td>\n",
              "      <td>108.310</td>\n",
              "      <td>22834300.0</td>\n",
              "      <td>0.0</td>\n",
              "      <td>1.0</td>\n",
              "      <td>50.661387</td>\n",
              "      <td>54.708881</td>\n",
              "      <td>50.405597</td>\n",
              "      <td>54.322689</td>\n",
              "      <td>22834300.0</td>\n",
              "    </tr>\n",
              "    <tr>\n",
              "      <th>2004-08-23</th>\n",
              "      <td>110.76</td>\n",
              "      <td>113.48</td>\n",
              "      <td>109.05</td>\n",
              "      <td>109.400</td>\n",
              "      <td>18256100.0</td>\n",
              "      <td>0.0</td>\n",
              "      <td>1.0</td>\n",
              "      <td>55.551482</td>\n",
              "      <td>56.915693</td>\n",
              "      <td>54.693835</td>\n",
              "      <td>54.869377</td>\n",
              "      <td>18256100.0</td>\n",
              "    </tr>\n",
              "    <tr>\n",
              "      <th>2004-08-24</th>\n",
              "      <td>111.24</td>\n",
              "      <td>111.60</td>\n",
              "      <td>103.57</td>\n",
              "      <td>104.870</td>\n",
              "      <td>15247300.0</td>\n",
              "      <td>0.0</td>\n",
              "      <td>1.0</td>\n",
              "      <td>55.792225</td>\n",
              "      <td>55.972783</td>\n",
              "      <td>51.945350</td>\n",
              "      <td>52.597363</td>\n",
              "      <td>15247300.0</td>\n",
              "    </tr>\n",
              "    <tr>\n",
              "      <th>2004-08-25</th>\n",
              "      <td>104.76</td>\n",
              "      <td>108.00</td>\n",
              "      <td>103.88</td>\n",
              "      <td>106.000</td>\n",
              "      <td>9188600.0</td>\n",
              "      <td>0.0</td>\n",
              "      <td>1.0</td>\n",
              "      <td>52.542193</td>\n",
              "      <td>54.167209</td>\n",
              "      <td>52.100830</td>\n",
              "      <td>53.164113</td>\n",
              "      <td>9188600.0</td>\n",
              "    </tr>\n",
              "  </tbody>\n",
              "</table>\n",
              "</div>"
            ],
            "text/plain": [
              "              Open    High     Low  ...   Adj. Low  Adj. Close  Adj. Volume\n",
              "Date                                ...                                    \n",
              "2004-08-19  100.01  104.06   95.96  ...  48.128568   50.322842   44659000.0\n",
              "2004-08-20  101.01  109.08  100.50  ...  50.405597   54.322689   22834300.0\n",
              "2004-08-23  110.76  113.48  109.05  ...  54.693835   54.869377   18256100.0\n",
              "2004-08-24  111.24  111.60  103.57  ...  51.945350   52.597363   15247300.0\n",
              "2004-08-25  104.76  108.00  103.88  ...  52.100830   53.164113    9188600.0\n",
              "\n",
              "[5 rows x 12 columns]"
            ]
          },
          "metadata": {
            "tags": []
          },
          "execution_count": 34
        }
      ]
    },
    {
      "cell_type": "code",
      "metadata": {
        "colab": {
          "base_uri": "https://localhost:8080/"
        },
        "id": "e8y3VXfRbWjG",
        "outputId": "42a52462-f48c-412a-df4d-5a91da61d5a2"
      },
      "source": [
        "df.columns"
      ],
      "execution_count": 35,
      "outputs": [
        {
          "output_type": "execute_result",
          "data": {
            "text/plain": [
              "Index(['Open', 'High', 'Low', 'Close', 'Volume', 'Ex-Dividend', 'Split Ratio',\n",
              "       'Adj. Open', 'Adj. High', 'Adj. Low', 'Adj. Close', 'Adj. Volume'],\n",
              "      dtype='object')"
            ]
          },
          "metadata": {
            "tags": []
          },
          "execution_count": 35
        }
      ]
    },
    {
      "cell_type": "code",
      "metadata": {
        "id": "UY17a5s2ehqh"
      },
      "source": [
        "df=df[[ u'Adj. Open', u'Adj. High', u'Adj. Low', u'Adj. Close',\r\n",
        "       u'Adj. Volume']]"
      ],
      "execution_count": 36,
      "outputs": []
    },
    {
      "cell_type": "code",
      "metadata": {
        "colab": {
          "base_uri": "https://localhost:8080/",
          "height": 235
        },
        "id": "WCj_0kiQeoC3",
        "outputId": "3c822bab-5ae3-4834-c50f-775ba6b13e00"
      },
      "source": [
        "df.head()"
      ],
      "execution_count": 37,
      "outputs": [
        {
          "output_type": "execute_result",
          "data": {
            "text/html": [
              "<div>\n",
              "<style scoped>\n",
              "    .dataframe tbody tr th:only-of-type {\n",
              "        vertical-align: middle;\n",
              "    }\n",
              "\n",
              "    .dataframe tbody tr th {\n",
              "        vertical-align: top;\n",
              "    }\n",
              "\n",
              "    .dataframe thead th {\n",
              "        text-align: right;\n",
              "    }\n",
              "</style>\n",
              "<table border=\"1\" class=\"dataframe\">\n",
              "  <thead>\n",
              "    <tr style=\"text-align: right;\">\n",
              "      <th></th>\n",
              "      <th>Adj. Open</th>\n",
              "      <th>Adj. High</th>\n",
              "      <th>Adj. Low</th>\n",
              "      <th>Adj. Close</th>\n",
              "      <th>Adj. Volume</th>\n",
              "    </tr>\n",
              "    <tr>\n",
              "      <th>Date</th>\n",
              "      <th></th>\n",
              "      <th></th>\n",
              "      <th></th>\n",
              "      <th></th>\n",
              "      <th></th>\n",
              "    </tr>\n",
              "  </thead>\n",
              "  <tbody>\n",
              "    <tr>\n",
              "      <th>2004-08-19</th>\n",
              "      <td>50.159839</td>\n",
              "      <td>52.191109</td>\n",
              "      <td>48.128568</td>\n",
              "      <td>50.322842</td>\n",
              "      <td>44659000.0</td>\n",
              "    </tr>\n",
              "    <tr>\n",
              "      <th>2004-08-20</th>\n",
              "      <td>50.661387</td>\n",
              "      <td>54.708881</td>\n",
              "      <td>50.405597</td>\n",
              "      <td>54.322689</td>\n",
              "      <td>22834300.0</td>\n",
              "    </tr>\n",
              "    <tr>\n",
              "      <th>2004-08-23</th>\n",
              "      <td>55.551482</td>\n",
              "      <td>56.915693</td>\n",
              "      <td>54.693835</td>\n",
              "      <td>54.869377</td>\n",
              "      <td>18256100.0</td>\n",
              "    </tr>\n",
              "    <tr>\n",
              "      <th>2004-08-24</th>\n",
              "      <td>55.792225</td>\n",
              "      <td>55.972783</td>\n",
              "      <td>51.945350</td>\n",
              "      <td>52.597363</td>\n",
              "      <td>15247300.0</td>\n",
              "    </tr>\n",
              "    <tr>\n",
              "      <th>2004-08-25</th>\n",
              "      <td>52.542193</td>\n",
              "      <td>54.167209</td>\n",
              "      <td>52.100830</td>\n",
              "      <td>53.164113</td>\n",
              "      <td>9188600.0</td>\n",
              "    </tr>\n",
              "  </tbody>\n",
              "</table>\n",
              "</div>"
            ],
            "text/plain": [
              "            Adj. Open  Adj. High   Adj. Low  Adj. Close  Adj. Volume\n",
              "Date                                                                \n",
              "2004-08-19  50.159839  52.191109  48.128568   50.322842   44659000.0\n",
              "2004-08-20  50.661387  54.708881  50.405597   54.322689   22834300.0\n",
              "2004-08-23  55.551482  56.915693  54.693835   54.869377   18256100.0\n",
              "2004-08-24  55.792225  55.972783  51.945350   52.597363   15247300.0\n",
              "2004-08-25  52.542193  54.167209  52.100830   53.164113    9188600.0"
            ]
          },
          "metadata": {
            "tags": []
          },
          "execution_count": 37
        }
      ]
    },
    {
      "cell_type": "code",
      "metadata": {
        "colab": {
          "base_uri": "https://localhost:8080/"
        },
        "id": "Gl6g_P1xerfx",
        "outputId": "359bce91-38f0-4b5d-8e0d-651481c4a789"
      },
      "source": [
        "df.isna().sum()"
      ],
      "execution_count": 38,
      "outputs": [
        {
          "output_type": "execute_result",
          "data": {
            "text/plain": [
              "Adj. Open      0\n",
              "Adj. High      0\n",
              "Adj. Low       0\n",
              "Adj. Close     0\n",
              "Adj. Volume    0\n",
              "dtype: int64"
            ]
          },
          "metadata": {
            "tags": []
          },
          "execution_count": 38
        }
      ]
    },
    {
      "cell_type": "code",
      "metadata": {
        "colab": {
          "base_uri": "https://localhost:8080/",
          "height": 297
        },
        "id": "ZDIn633Kf4pf",
        "outputId": "27fcc6e6-2aea-4b41-c849-5bc6bfa4c0ee"
      },
      "source": [
        "df.describe()"
      ],
      "execution_count": 39,
      "outputs": [
        {
          "output_type": "execute_result",
          "data": {
            "text/html": [
              "<div>\n",
              "<style scoped>\n",
              "    .dataframe tbody tr th:only-of-type {\n",
              "        vertical-align: middle;\n",
              "    }\n",
              "\n",
              "    .dataframe tbody tr th {\n",
              "        vertical-align: top;\n",
              "    }\n",
              "\n",
              "    .dataframe thead th {\n",
              "        text-align: right;\n",
              "    }\n",
              "</style>\n",
              "<table border=\"1\" class=\"dataframe\">\n",
              "  <thead>\n",
              "    <tr style=\"text-align: right;\">\n",
              "      <th></th>\n",
              "      <th>Adj. Open</th>\n",
              "      <th>Adj. High</th>\n",
              "      <th>Adj. Low</th>\n",
              "      <th>Adj. Close</th>\n",
              "      <th>Adj. Volume</th>\n",
              "    </tr>\n",
              "  </thead>\n",
              "  <tbody>\n",
              "    <tr>\n",
              "      <th>count</th>\n",
              "      <td>3424.000000</td>\n",
              "      <td>3424.000000</td>\n",
              "      <td>3424.000000</td>\n",
              "      <td>3424.000000</td>\n",
              "      <td>3.424000e+03</td>\n",
              "    </tr>\n",
              "    <tr>\n",
              "      <th>mean</th>\n",
              "      <td>409.221461</td>\n",
              "      <td>412.786556</td>\n",
              "      <td>405.227809</td>\n",
              "      <td>409.057885</td>\n",
              "      <td>7.818568e+06</td>\n",
              "    </tr>\n",
              "    <tr>\n",
              "      <th>std</th>\n",
              "      <td>257.844081</td>\n",
              "      <td>259.366718</td>\n",
              "      <td>255.981628</td>\n",
              "      <td>257.773495</td>\n",
              "      <td>8.248211e+06</td>\n",
              "    </tr>\n",
              "    <tr>\n",
              "      <th>min</th>\n",
              "      <td>49.698414</td>\n",
              "      <td>51.027517</td>\n",
              "      <td>48.128568</td>\n",
              "      <td>50.159839</td>\n",
              "      <td>5.211410e+05</td>\n",
              "    </tr>\n",
              "    <tr>\n",
              "      <th>25%</th>\n",
              "      <td>231.292728</td>\n",
              "      <td>233.416785</td>\n",
              "      <td>228.738594</td>\n",
              "      <td>231.316552</td>\n",
              "      <td>2.430647e+06</td>\n",
              "    </tr>\n",
              "    <tr>\n",
              "      <th>50%</th>\n",
              "      <td>300.174109</td>\n",
              "      <td>302.496277</td>\n",
              "      <td>297.909618</td>\n",
              "      <td>300.264387</td>\n",
              "      <td>5.076200e+06</td>\n",
              "    </tr>\n",
              "    <tr>\n",
              "      <th>75%</th>\n",
              "      <td>561.178118</td>\n",
              "      <td>565.000000</td>\n",
              "      <td>556.673036</td>\n",
              "      <td>561.200000</td>\n",
              "      <td>1.020910e+07</td>\n",
              "    </tr>\n",
              "    <tr>\n",
              "      <th>max</th>\n",
              "      <td>1188.000000</td>\n",
              "      <td>1198.000000</td>\n",
              "      <td>1184.060000</td>\n",
              "      <td>1187.560000</td>\n",
              "      <td>8.215110e+07</td>\n",
              "    </tr>\n",
              "  </tbody>\n",
              "</table>\n",
              "</div>"
            ],
            "text/plain": [
              "         Adj. Open    Adj. High     Adj. Low   Adj. Close   Adj. Volume\n",
              "count  3424.000000  3424.000000  3424.000000  3424.000000  3.424000e+03\n",
              "mean    409.221461   412.786556   405.227809   409.057885  7.818568e+06\n",
              "std     257.844081   259.366718   255.981628   257.773495  8.248211e+06\n",
              "min      49.698414    51.027517    48.128568    50.159839  5.211410e+05\n",
              "25%     231.292728   233.416785   228.738594   231.316552  2.430647e+06\n",
              "50%     300.174109   302.496277   297.909618   300.264387  5.076200e+06\n",
              "75%     561.178118   565.000000   556.673036   561.200000  1.020910e+07\n",
              "max    1188.000000  1198.000000  1184.060000  1187.560000  8.215110e+07"
            ]
          },
          "metadata": {
            "tags": []
          },
          "execution_count": 39
        }
      ]
    },
    {
      "cell_type": "code",
      "metadata": {
        "colab": {
          "base_uri": "https://localhost:8080/"
        },
        "id": "q5qDd9-_f_1m",
        "outputId": "0a5edd62-176a-4ae7-e46d-2cf2ce7767e9"
      },
      "source": [
        "df.info()"
      ],
      "execution_count": 40,
      "outputs": [
        {
          "output_type": "stream",
          "text": [
            "<class 'pandas.core.frame.DataFrame'>\n",
            "DatetimeIndex: 3424 entries, 2004-08-19 to 2018-03-27\n",
            "Data columns (total 5 columns):\n",
            " #   Column       Non-Null Count  Dtype  \n",
            "---  ------       --------------  -----  \n",
            " 0   Adj. Open    3424 non-null   float64\n",
            " 1   Adj. High    3424 non-null   float64\n",
            " 2   Adj. Low     3424 non-null   float64\n",
            " 3   Adj. Close   3424 non-null   float64\n",
            " 4   Adj. Volume  3424 non-null   float64\n",
            "dtypes: float64(5)\n",
            "memory usage: 160.5 KB\n"
          ],
          "name": "stdout"
        }
      ]
    },
    {
      "cell_type": "code",
      "metadata": {
        "colab": {
          "base_uri": "https://localhost:8080/",
          "height": 612
        },
        "id": "tLR6RufigCyH",
        "outputId": "5dfe0654-8b8d-4fdb-dd34-cfccb9de1b18"
      },
      "source": [
        "##Feature Selection\r\n",
        "plt.figure(figsize=(10,10))\r\n",
        "import seaborn as sns\r\n",
        "import matplotlib.pyplot as plt\r\n",
        "sns.heatmap(df.corr(),annot=True)"
      ],
      "execution_count": 41,
      "outputs": [
        {
          "output_type": "execute_result",
          "data": {
            "text/plain": [
              "<matplotlib.axes._subplots.AxesSubplot at 0x7f91363c89e8>"
            ]
          },
          "metadata": {
            "tags": []
          },
          "execution_count": 41
        },
        {
          "output_type": "display_data",
          "data": {
            "image/png": "[encoded data removed]",
            "text/plain": [
              "<Figure size 720x720 with 2 Axes>"
            ]
          },
          "metadata": {
            "tags": [],
            "needs_background": "light"
          }
        }
      ]
    },
    {
      "cell_type": "code",
      "metadata": {
        "id": "0-3jqmojgq9a"
      },
      "source": [
        "##Preprocessing\r\n",
        "##High Low Percentage \r\n",
        "df['HL_PCT']=((df['Adj. High']-df['Adj. Low'])/df['Adj. Close'])*100"
      ],
      "execution_count": 42,
      "outputs": []
    },
    {
      "cell_type": "code",
      "metadata": {
        "colab": {
          "base_uri": "https://localhost:8080/",
          "height": 235
        },
        "id": "JPi-AmwGhBb7",
        "outputId": "9a5775e4-958f-4c9c-e779-d07e177eaa7e"
      },
      "source": [
        "df.head()"
      ],
      "execution_count": 43,
      "outputs": [
        {
          "output_type": "execute_result",
          "data": {
            "text/html": [
              "<div>\n",
              "<style scoped>\n",
              "    .dataframe tbody tr th:only-of-type {\n",
              "        vertical-align: middle;\n",
              "    }\n",
              "\n",
              "    .dataframe tbody tr th {\n",
              "        vertical-align: top;\n",
              "    }\n",
              "\n",
              "    .dataframe thead th {\n",
              "        text-align: right;\n",
              "    }\n",
              "</style>\n",
              "<table border=\"1\" class=\"dataframe\">\n",
              "  <thead>\n",
              "    <tr style=\"text-align: right;\">\n",
              "      <th></th>\n",
              "      <th>Adj. Open</th>\n",
              "      <th>Adj. High</th>\n",
              "      <th>Adj. Low</th>\n",
              "      <th>Adj. Close</th>\n",
              "      <th>Adj. Volume</th>\n",
              "      <th>HL_PCT</th>\n",
              "    </tr>\n",
              "    <tr>\n",
              "      <th>Date</th>\n",
              "      <th></th>\n",
              "      <th></th>\n",
              "      <th></th>\n",
              "      <th></th>\n",
              "      <th></th>\n",
              "      <th></th>\n",
              "    </tr>\n",
              "  </thead>\n",
              "  <tbody>\n",
              "    <tr>\n",
              "      <th>2004-08-19</th>\n",
              "      <td>50.159839</td>\n",
              "      <td>52.191109</td>\n",
              "      <td>48.128568</td>\n",
              "      <td>50.322842</td>\n",
              "      <td>44659000.0</td>\n",
              "      <td>8.072956</td>\n",
              "    </tr>\n",
              "    <tr>\n",
              "      <th>2004-08-20</th>\n",
              "      <td>50.661387</td>\n",
              "      <td>54.708881</td>\n",
              "      <td>50.405597</td>\n",
              "      <td>54.322689</td>\n",
              "      <td>22834300.0</td>\n",
              "      <td>7.921706</td>\n",
              "    </tr>\n",
              "    <tr>\n",
              "      <th>2004-08-23</th>\n",
              "      <td>55.551482</td>\n",
              "      <td>56.915693</td>\n",
              "      <td>54.693835</td>\n",
              "      <td>54.869377</td>\n",
              "      <td>18256100.0</td>\n",
              "      <td>4.049360</td>\n",
              "    </tr>\n",
              "    <tr>\n",
              "      <th>2004-08-24</th>\n",
              "      <td>55.792225</td>\n",
              "      <td>55.972783</td>\n",
              "      <td>51.945350</td>\n",
              "      <td>52.597363</td>\n",
              "      <td>15247300.0</td>\n",
              "      <td>7.657099</td>\n",
              "    </tr>\n",
              "    <tr>\n",
              "      <th>2004-08-25</th>\n",
              "      <td>52.542193</td>\n",
              "      <td>54.167209</td>\n",
              "      <td>52.100830</td>\n",
              "      <td>53.164113</td>\n",
              "      <td>9188600.0</td>\n",
              "      <td>3.886792</td>\n",
              "    </tr>\n",
              "  </tbody>\n",
              "</table>\n",
              "</div>"
            ],
            "text/plain": [
              "            Adj. Open  Adj. High   Adj. Low  Adj. Close  Adj. Volume    HL_PCT\n",
              "Date                                                                          \n",
              "2004-08-19  50.159839  52.191109  48.128568   50.322842   44659000.0  8.072956\n",
              "2004-08-20  50.661387  54.708881  50.405597   54.322689   22834300.0  7.921706\n",
              "2004-08-23  55.551482  56.915693  54.693835   54.869377   18256100.0  4.049360\n",
              "2004-08-24  55.792225  55.972783  51.945350   52.597363   15247300.0  7.657099\n",
              "2004-08-25  52.542193  54.167209  52.100830   53.164113    9188600.0  3.886792"
            ]
          },
          "metadata": {
            "tags": []
          },
          "execution_count": 43
        }
      ]
    },
    {
      "cell_type": "code",
      "metadata": {
        "id": "mrndAKY8hNQx"
      },
      "source": [
        "df['PCT_CHANGE']=((df['Adj. Close']-df['Adj. Open'])/df['Adj. Open'])*100"
      ],
      "execution_count": 44,
      "outputs": []
    },
    {
      "cell_type": "code",
      "metadata": {
        "colab": {
          "base_uri": "https://localhost:8080/",
          "height": 235
        },
        "id": "-Bju8CR4hUxY",
        "outputId": "9ba1e4de-35da-4a02-99e4-ac8317b443f8"
      },
      "source": [
        "df.head()"
      ],
      "execution_count": 45,
      "outputs": [
        {
          "output_type": "execute_result",
          "data": {
            "text/html": [
              "<div>\n",
              "<style scoped>\n",
              "    .dataframe tbody tr th:only-of-type {\n",
              "        vertical-align: middle;\n",
              "    }\n",
              "\n",
              "    .dataframe tbody tr th {\n",
              "        vertical-align: top;\n",
              "    }\n",
              "\n",
              "    .dataframe thead th {\n",
              "        text-align: right;\n",
              "    }\n",
              "</style>\n",
              "<table border=\"1\" class=\"dataframe\">\n",
              "  <thead>\n",
              "    <tr style=\"text-align: right;\">\n",
              "      <th></th>\n",
              "      <th>Adj. Open</th>\n",
              "      <th>Adj. High</th>\n",
              "      <th>Adj. Low</th>\n",
              "      <th>Adj. Close</th>\n",
              "      <th>Adj. Volume</th>\n",
              "      <th>HL_PCT</th>\n",
              "      <th>PCT_CHANGE</th>\n",
              "    </tr>\n",
              "    <tr>\n",
              "      <th>Date</th>\n",
              "      <th></th>\n",
              "      <th></th>\n",
              "      <th></th>\n",
              "      <th></th>\n",
              "      <th></th>\n",
              "      <th></th>\n",
              "      <th></th>\n",
              "    </tr>\n",
              "  </thead>\n",
              "  <tbody>\n",
              "    <tr>\n",
              "      <th>2004-08-19</th>\n",
              "      <td>50.159839</td>\n",
              "      <td>52.191109</td>\n",
              "      <td>48.128568</td>\n",
              "      <td>50.322842</td>\n",
              "      <td>44659000.0</td>\n",
              "      <td>8.072956</td>\n",
              "      <td>0.324968</td>\n",
              "    </tr>\n",
              "    <tr>\n",
              "      <th>2004-08-20</th>\n",
              "      <td>50.661387</td>\n",
              "      <td>54.708881</td>\n",
              "      <td>50.405597</td>\n",
              "      <td>54.322689</td>\n",
              "      <td>22834300.0</td>\n",
              "      <td>7.921706</td>\n",
              "      <td>7.227007</td>\n",
              "    </tr>\n",
              "    <tr>\n",
              "      <th>2004-08-23</th>\n",
              "      <td>55.551482</td>\n",
              "      <td>56.915693</td>\n",
              "      <td>54.693835</td>\n",
              "      <td>54.869377</td>\n",
              "      <td>18256100.0</td>\n",
              "      <td>4.049360</td>\n",
              "      <td>-1.227880</td>\n",
              "    </tr>\n",
              "    <tr>\n",
              "      <th>2004-08-24</th>\n",
              "      <td>55.792225</td>\n",
              "      <td>55.972783</td>\n",
              "      <td>51.945350</td>\n",
              "      <td>52.597363</td>\n",
              "      <td>15247300.0</td>\n",
              "      <td>7.657099</td>\n",
              "      <td>-5.726357</td>\n",
              "    </tr>\n",
              "    <tr>\n",
              "      <th>2004-08-25</th>\n",
              "      <td>52.542193</td>\n",
              "      <td>54.167209</td>\n",
              "      <td>52.100830</td>\n",
              "      <td>53.164113</td>\n",
              "      <td>9188600.0</td>\n",
              "      <td>3.886792</td>\n",
              "      <td>1.183658</td>\n",
              "    </tr>\n",
              "  </tbody>\n",
              "</table>\n",
              "</div>"
            ],
            "text/plain": [
              "            Adj. Open  Adj. High   Adj. Low  ...  Adj. Volume    HL_PCT  PCT_CHANGE\n",
              "Date                                         ...                                   \n",
              "2004-08-19  50.159839  52.191109  48.128568  ...   44659000.0  8.072956    0.324968\n",
              "2004-08-20  50.661387  54.708881  50.405597  ...   22834300.0  7.921706    7.227007\n",
              "2004-08-23  55.551482  56.915693  54.693835  ...   18256100.0  4.049360   -1.227880\n",
              "2004-08-24  55.792225  55.972783  51.945350  ...   15247300.0  7.657099   -5.726357\n",
              "2004-08-25  52.542193  54.167209  52.100830  ...    9188600.0  3.886792    1.183658\n",
              "\n",
              "[5 rows x 7 columns]"
            ]
          },
          "metadata": {
            "tags": []
          },
          "execution_count": 45
        }
      ]
    },
    {
      "cell_type": "code",
      "metadata": {
        "id": "mqv4kkcShYKJ"
      },
      "source": [
        "df_new=df[['Adj. Close','Adj. Volume','HL_PCT','PCT_CHANGE']]"
      ],
      "execution_count": 46,
      "outputs": []
    },
    {
      "cell_type": "code",
      "metadata": {
        "colab": {
          "base_uri": "https://localhost:8080/",
          "height": 235
        },
        "id": "SNwiQtIqhhKz",
        "outputId": "dec49d49-0340-4ffb-dfb7-61feca1a04fa"
      },
      "source": [
        "df_new.head()"
      ],
      "execution_count": 47,
      "outputs": [
        {
          "output_type": "execute_result",
          "data": {
            "text/html": [
              "<div>\n",
              "<style scoped>\n",
              "    .dataframe tbody tr th:only-of-type {\n",
              "        vertical-align: middle;\n",
              "    }\n",
              "\n",
              "    .dataframe tbody tr th {\n",
              "        vertical-align: top;\n",
              "    }\n",
              "\n",
              "    .dataframe thead th {\n",
              "        text-align: right;\n",
              "    }\n",
              "</style>\n",
              "<table border=\"1\" class=\"dataframe\">\n",
              "  <thead>\n",
              "    <tr style=\"text-align: right;\">\n",
              "      <th></th>\n",
              "      <th>Adj. Close</th>\n",
              "      <th>Adj. Volume</th>\n",
              "      <th>HL_PCT</th>\n",
              "      <th>PCT_CHANGE</th>\n",
              "    </tr>\n",
              "    <tr>\n",
              "      <th>Date</th>\n",
              "      <th></th>\n",
              "      <th></th>\n",
              "      <th></th>\n",
              "      <th></th>\n",
              "    </tr>\n",
              "  </thead>\n",
              "  <tbody>\n",
              "    <tr>\n",
              "      <th>2004-08-19</th>\n",
              "      <td>50.322842</td>\n",
              "      <td>44659000.0</td>\n",
              "      <td>8.072956</td>\n",
              "      <td>0.324968</td>\n",
              "    </tr>\n",
              "    <tr>\n",
              "      <th>2004-08-20</th>\n",
              "      <td>54.322689</td>\n",
              "      <td>22834300.0</td>\n",
              "      <td>7.921706</td>\n",
              "      <td>7.227007</td>\n",
              "    </tr>\n",
              "    <tr>\n",
              "      <th>2004-08-23</th>\n",
              "      <td>54.869377</td>\n",
              "      <td>18256100.0</td>\n",
              "      <td>4.049360</td>\n",
              "      <td>-1.227880</td>\n",
              "    </tr>\n",
              "    <tr>\n",
              "      <th>2004-08-24</th>\n",
              "      <td>52.597363</td>\n",
              "      <td>15247300.0</td>\n",
              "      <td>7.657099</td>\n",
              "      <td>-5.726357</td>\n",
              "    </tr>\n",
              "    <tr>\n",
              "      <th>2004-08-25</th>\n",
              "      <td>53.164113</td>\n",
              "      <td>9188600.0</td>\n",
              "      <td>3.886792</td>\n",
              "      <td>1.183658</td>\n",
              "    </tr>\n",
              "  </tbody>\n",
              "</table>\n",
              "</div>"
            ],
            "text/plain": [
              "            Adj. Close  Adj. Volume    HL_PCT  PCT_CHANGE\n",
              "Date                                                     \n",
              "2004-08-19   50.322842   44659000.0  8.072956    0.324968\n",
              "2004-08-20   54.322689   22834300.0  7.921706    7.227007\n",
              "2004-08-23   54.869377   18256100.0  4.049360   -1.227880\n",
              "2004-08-24   52.597363   15247300.0  7.657099   -5.726357\n",
              "2004-08-25   53.164113    9188600.0  3.886792    1.183658"
            ]
          },
          "metadata": {
            "tags": []
          },
          "execution_count": 47
        }
      ]
    },
    {
      "cell_type": "code",
      "metadata": {
        "id": "VCXaGQQJhjgT"
      },
      "source": [
        "X=df[['Adj. Volume','HL_PCT','PCT_CHANGE']]\r\n",
        "Y=df[['Adj. Close']]"
      ],
      "execution_count": 74,
      "outputs": []
    },
    {
      "cell_type": "code",
      "metadata": {
        "colab": {
          "base_uri": "https://localhost:8080/"
        },
        "id": "1-VjnJ5chtz0",
        "outputId": "b50e484e-77d8-46c3-e557-9576f620834e"
      },
      "source": [
        "from sklearn.preprocessing import scale\r\n",
        "X_new=(scale(X))\r\n",
        "X_new"
      ],
      "execution_count": 75,
      "outputs": [
        {
          "output_type": "execute_result",
          "data": {
            "text/plain": [
              "array([[ 4.46712802,  4.25846492,  0.23254018],\n",
              "       [ 1.8207495 ,  4.15018674,  4.81828847],\n",
              "       [ 1.26561472,  1.3780063 , -0.79917922],\n",
              "       ...,\n",
              "       [-0.65539548,  1.40180729, -1.55184968],\n",
              "       [-0.55124957,  1.78591425,  0.23733959],\n",
              "       [-0.59144015,  3.23683162, -3.54051775]])"
            ]
          },
          "metadata": {
            "tags": []
          },
          "execution_count": 75
        }
      ]
    },
    {
      "cell_type": "code",
      "metadata": {
        "id": "_7yfOF1BwtTV"
      },
      "source": [
        "X_df=pd.DataFrame(X_new,columns=['Adj. Volume','HL_PCT','PCT_CHANGE'])"
      ],
      "execution_count": 50,
      "outputs": []
    },
    {
      "cell_type": "code",
      "metadata": {
        "colab": {
          "base_uri": "https://localhost:8080/",
          "height": 204
        },
        "id": "27QHChKBw35h",
        "outputId": "160d973e-9cbc-4e86-cacc-392ab044892b"
      },
      "source": [
        "X_df.head()"
      ],
      "execution_count": 52,
      "outputs": [
        {
          "output_type": "execute_result",
          "data": {
            "text/html": [
              "<div>\n",
              "<style scoped>\n",
              "    .dataframe tbody tr th:only-of-type {\n",
              "        vertical-align: middle;\n",
              "    }\n",
              "\n",
              "    .dataframe tbody tr th {\n",
              "        vertical-align: top;\n",
              "    }\n",
              "\n",
              "    .dataframe thead th {\n",
              "        text-align: right;\n",
              "    }\n",
              "</style>\n",
              "<table border=\"1\" class=\"dataframe\">\n",
              "  <thead>\n",
              "    <tr style=\"text-align: right;\">\n",
              "      <th></th>\n",
              "      <th>Adj. Volume</th>\n",
              "      <th>HL_PCT</th>\n",
              "      <th>PCT_CHANGE</th>\n",
              "    </tr>\n",
              "  </thead>\n",
              "  <tbody>\n",
              "    <tr>\n",
              "      <th>0</th>\n",
              "      <td>4.467128</td>\n",
              "      <td>4.258465</td>\n",
              "      <td>0.232540</td>\n",
              "    </tr>\n",
              "    <tr>\n",
              "      <th>1</th>\n",
              "      <td>1.820750</td>\n",
              "      <td>4.150187</td>\n",
              "      <td>4.818288</td>\n",
              "    </tr>\n",
              "    <tr>\n",
              "      <th>2</th>\n",
              "      <td>1.265615</td>\n",
              "      <td>1.378006</td>\n",
              "      <td>-0.799179</td>\n",
              "    </tr>\n",
              "    <tr>\n",
              "      <th>3</th>\n",
              "      <td>0.900779</td>\n",
              "      <td>3.960757</td>\n",
              "      <td>-3.787989</td>\n",
              "    </tr>\n",
              "    <tr>\n",
              "      <th>4</th>\n",
              "      <td>0.166125</td>\n",
              "      <td>1.261625</td>\n",
              "      <td>0.803058</td>\n",
              "    </tr>\n",
              "  </tbody>\n",
              "</table>\n",
              "</div>"
            ],
            "text/plain": [
              "   Adj. Volume    HL_PCT  PCT_CHANGE\n",
              "0     4.467128  4.258465    0.232540\n",
              "1     1.820750  4.150187    4.818288\n",
              "2     1.265615  1.378006   -0.799179\n",
              "3     0.900779  3.960757   -3.787989\n",
              "4     0.166125  1.261625    0.803058"
            ]
          },
          "metadata": {
            "tags": []
          },
          "execution_count": 52
        }
      ]
    },
    {
      "cell_type": "code",
      "metadata": {
        "colab": {
          "base_uri": "https://localhost:8080/",
          "height": 566
        },
        "id": "RDSSytAP1NoJ",
        "outputId": "0f78c279-e7d0-4255-bb50-1fcd2a86ca4f"
      },
      "source": [
        "plt.figure(figsize=(10,10))\r\n",
        "style.use('ggplot')\r\n",
        "df_new['Adj. Close'].plot()\r\n",
        "plt.legend(loc=1)\r\n",
        "plt.xlabel('Date')\r\n",
        "plt.ylabel('Price')\r\n",
        "plt.show()"
      ],
      "execution_count": 70,
      "outputs": [
        {
          "output_type": "display_data",
          "data": {
            "image/png": "[encoded data removed]",
            "text/plain": [
              "<Figure size 720x720 with 1 Axes>"
            ]
          },
          "metadata": {
            "tags": []
          }
        }
      ]
    },
    {
      "cell_type": "code",
      "metadata": {
        "id": "njQVE5ODw5Ao"
      },
      "source": [
        "from sklearn.model_selection import train_test_split\r\n",
        "X_train,X_test,Y_train,Y_test=train_test_split(X_df,Y,test_size=0.2,random_state=2)"
      ],
      "execution_count": 53,
      "outputs": []
    },
    {
      "cell_type": "code",
      "metadata": {
        "colab": {
          "base_uri": "https://localhost:8080/"
        },
        "id": "jS_SQEM2zMeB",
        "outputId": "1e023975-e4f5-4db3-a365-ec01c8597a90"
      },
      "source": [
        "print(X_train.shape)\r\n",
        "print(X_test.shape)\r\n",
        "print(Y_train.shape)\r\n",
        "print(Y_test.shape)"
      ],
      "execution_count": 54,
      "outputs": [
        {
          "output_type": "stream",
          "text": [
            "(2739, 3)\n",
            "(685, 3)\n",
            "(2739, 1)\n",
            "(685, 1)\n"
          ],
          "name": "stdout"
        }
      ]
    },
    {
      "cell_type": "code",
      "metadata": {
        "colab": {
          "base_uri": "https://localhost:8080/"
        },
        "id": "q9NXkGKUzbuQ",
        "outputId": "4dded45f-5156-4e17-d410-982568f0ac9e"
      },
      "source": [
        "from sklearn.linear_model import LinearRegression\r\n",
        "lr_model=LinearRegression()\r\n",
        "lr_model.fit(X_train,Y_train)"
      ],
      "execution_count": 78,
      "outputs": [
        {
          "output_type": "execute_result",
          "data": {
            "text/plain": [
              "LinearRegression(copy_X=True, fit_intercept=True, n_jobs=None, normalize=False)"
            ]
          },
          "metadata": {
            "tags": []
          },
          "execution_count": 78
        }
      ]
    },
    {
      "cell_type": "code",
      "metadata": {
        "id": "CU2BmKmozkVQ"
      },
      "source": [
        "y_pred= lr_model.predict(X_test)"
      ],
      "execution_count": 84,
      "outputs": []
    },
    {
      "cell_type": "code",
      "metadata": {
        "colab": {
          "base_uri": "https://localhost:8080/"
        },
        "id": "4O39HU4hzorD",
        "outputId": "8b2aaabc-ce0a-4057-f381-75362ab1d31e"
      },
      "source": [
        "from sklearn.metrics import r2_score\r\n",
        "print(r2_score(Y_test,y_pred))"
      ],
      "execution_count": 85,
      "outputs": [
        {
          "output_type": "stream",
          "text": [
            "0.3247157791718921\n"
          ],
          "name": "stdout"
        }
      ]
    }
  ]
}